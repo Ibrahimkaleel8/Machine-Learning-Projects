{
 "cells": [
  {
   "cell_type": "code",
   "execution_count": 1,
   "id": "8eb7e2f0",
   "metadata": {},
   "outputs": [],
   "source": [
    "# Python implementation for the\n",
    "# CYK Algorithm\n",
    " \n",
    "# Non-terminal symbols\n",
    "non_terminals = [\"NP\", \"Nom\", \"Det\", \"AP\",\n",
    "                  \"Adv\", \"A\"]\n",
    "terminals = [\"book\", \"orange\", \"man\",\n",
    "             \"tall\", \"heavy\",\n",
    "             \"very\", \"muscular\"]"
   ]
  },
  {
   "cell_type": "code",
   "execution_count": 2,
   "id": "00e2b733",
   "metadata": {},
   "outputs": [],
   "source": [
    " # Rules of the grammar\n",
    "R = {\n",
    "     \"NP\": [[\"Det\", \"Nom\"]],\n",
    "     \"Nom\": [[\"AP\", \"Nom\"], [\"book\"],\n",
    "             [\"orange\"], [\"man\"]],\n",
    "     \"AP\": [[\"Adv\", \"A\"], [\"heavy\"],\n",
    "            [\"orange\"], [\"tall\"]],\n",
    "     \"Det\": [[\"a\"]],\n",
    "     \"Adv\": [[\"very\"], [\"extremely\"]],\n",
    "     \"A\": [[\"heavy\"], [\"orange\"], [\"tall\"],\n",
    "           [\"muscular\"]]\n",
    "    }"
   ]
  },
  {
   "cell_type": "code",
   "execution_count": 9,
   "id": "25783cd6",
   "metadata": {},
   "outputs": [
    {
     "name": "stdout",
     "output_type": "stream",
     "text": [
      "True\n"
     ]
    }
   ],
   "source": [
    "def cykParse(w):\n",
    "    n = len(w)\n",
    "     \n",
    "    # Initialize the table\n",
    "    T = [[set([]) for j in range(n)] for i in range(n)]\n",
    " \n",
    "    # Filling in the table\n",
    "    for j in range(0, n):\n",
    " \n",
    "        # Iterate over the rules\n",
    "        for lhs, rule in R.items():\n",
    "            for rhs in rule:\n",
    "                 \n",
    "                # If a terminal is found\n",
    "                if len(rhs) == 1 and \\\n",
    "                rhs[0] == w[j]:\n",
    "                    T[j][j].add(lhs)\n",
    "                \n",
    "    \n",
    "        for i in range(j, -1, -1):  \n",
    "              \n",
    "            # Iterate over the range i to j + 1  \n",
    "            for k in range(i, j + 1):    \n",
    " \n",
    "                # Iterate over the rules\n",
    "                for lhs, rule in R.items():\n",
    "                    for rhs in rule:\n",
    "                         \n",
    "                        # If a terminal is found\n",
    "                        if len(rhs) == 2 and \\\n",
    "                        rhs[0] in T[i][k] and \\\n",
    "                        rhs[1] in T[k + 1][j]:\n",
    "                            T[i][j].add(lhs)            \n",
    "      \n",
    "     # If word can be formed by rules\n",
    "    # of given grammar\n",
    "    if len(T[0][n-1]) != 0:\n",
    "        print(\"True\")\n",
    "    else:\n",
    "        print(\"False\")\n",
    "        \n",
    "# Driver Code\n",
    " \n",
    "# Given string\n",
    "w = \"a very heavy orange book\".split()\n",
    " \n",
    "# Function Call\n",
    "cykParse(w)        "
   ]
  },
  {
   "cell_type": "code",
   "execution_count": null,
   "id": "f1715930",
   "metadata": {},
   "outputs": [],
   "source": []
  },
  {
   "cell_type": "code",
   "execution_count": null,
   "id": "02928884",
   "metadata": {},
   "outputs": [],
   "source": []
  }
 ],
 "metadata": {
  "kernelspec": {
   "display_name": "Python 3",
   "language": "python",
   "name": "python3"
  },
  "language_info": {
   "codemirror_mode": {
    "name": "ipython",
    "version": 3
   },
   "file_extension": ".py",
   "mimetype": "text/x-python",
   "name": "python",
   "nbconvert_exporter": "python",
   "pygments_lexer": "ipython3",
   "version": "3.8.8"
  }
 },
 "nbformat": 4,
 "nbformat_minor": 5
}
