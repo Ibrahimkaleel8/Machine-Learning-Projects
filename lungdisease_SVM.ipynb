{
 "cells": [
  {
   "cell_type": "code",
   "execution_count": 1,
   "id": "2e5c2ef6",
   "metadata": {},
   "outputs": [],
   "source": [
    "import numpy as np\n",
    "import pandas as pd\n",
    "lungs=pd.read_csv(\"D:\\\\MLlab\\\\ML\\\\lung_cancer.csv\")"
   ]
  },
  {
   "cell_type": "code",
   "execution_count": 2,
   "id": "750d96af",
   "metadata": {},
   "outputs": [
    {
     "data": {
      "text/html": [
       "<div>\n",
       "<style scoped>\n",
       "    .dataframe tbody tr th:only-of-type {\n",
       "        vertical-align: middle;\n",
       "    }\n",
       "\n",
       "    .dataframe tbody tr th {\n",
       "        vertical-align: top;\n",
       "    }\n",
       "\n",
       "    .dataframe thead th {\n",
       "        text-align: right;\n",
       "    }\n",
       "</style>\n",
       "<table border=\"1\" class=\"dataframe\">\n",
       "  <thead>\n",
       "    <tr style=\"text-align: right;\">\n",
       "      <th></th>\n",
       "      <th>Name</th>\n",
       "      <th>Surname</th>\n",
       "      <th>Age</th>\n",
       "      <th>Smokes</th>\n",
       "      <th>AreaQ</th>\n",
       "      <th>Alkhol</th>\n",
       "      <th>Result</th>\n",
       "    </tr>\n",
       "  </thead>\n",
       "  <tbody>\n",
       "    <tr>\n",
       "      <th>0</th>\n",
       "      <td>John</td>\n",
       "      <td>Wick</td>\n",
       "      <td>35</td>\n",
       "      <td>3</td>\n",
       "      <td>5</td>\n",
       "      <td>4</td>\n",
       "      <td>1</td>\n",
       "    </tr>\n",
       "    <tr>\n",
       "      <th>1</th>\n",
       "      <td>John</td>\n",
       "      <td>Constantine</td>\n",
       "      <td>27</td>\n",
       "      <td>20</td>\n",
       "      <td>2</td>\n",
       "      <td>5</td>\n",
       "      <td>1</td>\n",
       "    </tr>\n",
       "    <tr>\n",
       "      <th>2</th>\n",
       "      <td>Camela</td>\n",
       "      <td>Anderson</td>\n",
       "      <td>30</td>\n",
       "      <td>0</td>\n",
       "      <td>5</td>\n",
       "      <td>2</td>\n",
       "      <td>0</td>\n",
       "    </tr>\n",
       "    <tr>\n",
       "      <th>3</th>\n",
       "      <td>Alex</td>\n",
       "      <td>Telles</td>\n",
       "      <td>28</td>\n",
       "      <td>0</td>\n",
       "      <td>8</td>\n",
       "      <td>1</td>\n",
       "      <td>0</td>\n",
       "    </tr>\n",
       "    <tr>\n",
       "      <th>4</th>\n",
       "      <td>Diego</td>\n",
       "      <td>Maradona</td>\n",
       "      <td>68</td>\n",
       "      <td>4</td>\n",
       "      <td>5</td>\n",
       "      <td>6</td>\n",
       "      <td>1</td>\n",
       "    </tr>\n",
       "    <tr>\n",
       "      <th>...</th>\n",
       "      <td>...</td>\n",
       "      <td>...</td>\n",
       "      <td>...</td>\n",
       "      <td>...</td>\n",
       "      <td>...</td>\n",
       "      <td>...</td>\n",
       "      <td>...</td>\n",
       "    </tr>\n",
       "    <tr>\n",
       "      <th>114</th>\n",
       "      <td>Guinness</td>\n",
       "      <td>Alec</td>\n",
       "      <td>37</td>\n",
       "      <td>15</td>\n",
       "      <td>6</td>\n",
       "      <td>2</td>\n",
       "      <td>0</td>\n",
       "    </tr>\n",
       "    <tr>\n",
       "      <th>115</th>\n",
       "      <td>Heston</td>\n",
       "      <td>Charlton</td>\n",
       "      <td>34</td>\n",
       "      <td>12</td>\n",
       "      <td>8</td>\n",
       "      <td>0</td>\n",
       "      <td>0</td>\n",
       "    </tr>\n",
       "    <tr>\n",
       "      <th>116</th>\n",
       "      <td>Peck</td>\n",
       "      <td>Gregory</td>\n",
       "      <td>55</td>\n",
       "      <td>20</td>\n",
       "      <td>1</td>\n",
       "      <td>4</td>\n",
       "      <td>1</td>\n",
       "    </tr>\n",
       "    <tr>\n",
       "      <th>117</th>\n",
       "      <td>Poitier</td>\n",
       "      <td>Sidney</td>\n",
       "      <td>40</td>\n",
       "      <td>20</td>\n",
       "      <td>2</td>\n",
       "      <td>7</td>\n",
       "      <td>1</td>\n",
       "    </tr>\n",
       "    <tr>\n",
       "      <th>118</th>\n",
       "      <td>Smith</td>\n",
       "      <td>steven</td>\n",
       "      <td>28</td>\n",
       "      <td>20</td>\n",
       "      <td>2</td>\n",
       "      <td>8</td>\n",
       "      <td>1</td>\n",
       "    </tr>\n",
       "  </tbody>\n",
       "</table>\n",
       "<p>119 rows × 7 columns</p>\n",
       "</div>"
      ],
      "text/plain": [
       "         Name      Surname  Age  Smokes  AreaQ  Alkhol  Result\n",
       "0        John         Wick   35       3      5       4       1\n",
       "1        John  Constantine   27      20      2       5       1\n",
       "2      Camela     Anderson   30       0      5       2       0\n",
       "3        Alex       Telles   28       0      8       1       0\n",
       "4       Diego     Maradona   68       4      5       6       1\n",
       "..        ...          ...  ...     ...    ...     ...     ...\n",
       "114  Guinness        Alec    37      15      6       2       0\n",
       "115    Heston    Charlton    34      12      8       0       0\n",
       "116      Peck     Gregory    55      20      1       4       1\n",
       "117   Poitier      Sidney    40      20      2       7       1\n",
       "118     Smith       steven   28      20      2       8       1\n",
       "\n",
       "[119 rows x 7 columns]"
      ]
     },
     "execution_count": 2,
     "metadata": {},
     "output_type": "execute_result"
    }
   ],
   "source": [
    "lungs"
   ]
  },
  {
   "cell_type": "code",
   "execution_count": 3,
   "id": "8c63308d",
   "metadata": {},
   "outputs": [
    {
     "data": {
      "text/html": [
       "<div>\n",
       "<style scoped>\n",
       "    .dataframe tbody tr th:only-of-type {\n",
       "        vertical-align: middle;\n",
       "    }\n",
       "\n",
       "    .dataframe tbody tr th {\n",
       "        vertical-align: top;\n",
       "    }\n",
       "\n",
       "    .dataframe thead th {\n",
       "        text-align: right;\n",
       "    }\n",
       "</style>\n",
       "<table border=\"1\" class=\"dataframe\">\n",
       "  <thead>\n",
       "    <tr style=\"text-align: right;\">\n",
       "      <th></th>\n",
       "      <th>Name</th>\n",
       "      <th>Surname</th>\n",
       "      <th>Age</th>\n",
       "      <th>Smokes</th>\n",
       "      <th>AreaQ</th>\n",
       "      <th>Alkhol</th>\n",
       "      <th>Result</th>\n",
       "    </tr>\n",
       "  </thead>\n",
       "  <tbody>\n",
       "    <tr>\n",
       "      <th>0</th>\n",
       "      <td>49</td>\n",
       "      <td>94</td>\n",
       "      <td>35</td>\n",
       "      <td>3</td>\n",
       "      <td>5</td>\n",
       "      <td>4</td>\n",
       "      <td>1</td>\n",
       "    </tr>\n",
       "    <tr>\n",
       "      <th>1</th>\n",
       "      <td>49</td>\n",
       "      <td>15</td>\n",
       "      <td>27</td>\n",
       "      <td>20</td>\n",
       "      <td>2</td>\n",
       "      <td>5</td>\n",
       "      <td>1</td>\n",
       "    </tr>\n",
       "    <tr>\n",
       "      <th>2</th>\n",
       "      <td>12</td>\n",
       "      <td>2</td>\n",
       "      <td>30</td>\n",
       "      <td>0</td>\n",
       "      <td>5</td>\n",
       "      <td>2</td>\n",
       "      <td>0</td>\n",
       "    </tr>\n",
       "    <tr>\n",
       "      <th>3</th>\n",
       "      <td>1</td>\n",
       "      <td>91</td>\n",
       "      <td>28</td>\n",
       "      <td>0</td>\n",
       "      <td>8</td>\n",
       "      <td>1</td>\n",
       "      <td>0</td>\n",
       "    </tr>\n",
       "    <tr>\n",
       "      <th>4</th>\n",
       "      <td>19</td>\n",
       "      <td>60</td>\n",
       "      <td>68</td>\n",
       "      <td>4</td>\n",
       "      <td>5</td>\n",
       "      <td>6</td>\n",
       "      <td>1</td>\n",
       "    </tr>\n",
       "    <tr>\n",
       "      <th>...</th>\n",
       "      <td>...</td>\n",
       "      <td>...</td>\n",
       "      <td>...</td>\n",
       "      <td>...</td>\n",
       "      <td>...</td>\n",
       "      <td>...</td>\n",
       "      <td>...</td>\n",
       "    </tr>\n",
       "    <tr>\n",
       "      <th>114</th>\n",
       "      <td>34</td>\n",
       "      <td>0</td>\n",
       "      <td>37</td>\n",
       "      <td>15</td>\n",
       "      <td>6</td>\n",
       "      <td>2</td>\n",
       "      <td>0</td>\n",
       "    </tr>\n",
       "    <tr>\n",
       "      <th>115</th>\n",
       "      <td>41</td>\n",
       "      <td>14</td>\n",
       "      <td>34</td>\n",
       "      <td>12</td>\n",
       "      <td>8</td>\n",
       "      <td>0</td>\n",
       "      <td>0</td>\n",
       "    </tr>\n",
       "    <tr>\n",
       "      <th>116</th>\n",
       "      <td>72</td>\n",
       "      <td>33</td>\n",
       "      <td>55</td>\n",
       "      <td>20</td>\n",
       "      <td>1</td>\n",
       "      <td>4</td>\n",
       "      <td>1</td>\n",
       "    </tr>\n",
       "    <tr>\n",
       "      <th>117</th>\n",
       "      <td>74</td>\n",
       "      <td>84</td>\n",
       "      <td>40</td>\n",
       "      <td>20</td>\n",
       "      <td>2</td>\n",
       "      <td>7</td>\n",
       "      <td>1</td>\n",
       "    </tr>\n",
       "    <tr>\n",
       "      <th>118</th>\n",
       "      <td>86</td>\n",
       "      <td>97</td>\n",
       "      <td>28</td>\n",
       "      <td>20</td>\n",
       "      <td>2</td>\n",
       "      <td>8</td>\n",
       "      <td>1</td>\n",
       "    </tr>\n",
       "  </tbody>\n",
       "</table>\n",
       "<p>119 rows × 7 columns</p>\n",
       "</div>"
      ],
      "text/plain": [
       "     Name  Surname  Age  Smokes  AreaQ  Alkhol  Result\n",
       "0      49       94   35       3      5       4       1\n",
       "1      49       15   27      20      2       5       1\n",
       "2      12        2   30       0      5       2       0\n",
       "3       1       91   28       0      8       1       0\n",
       "4      19       60   68       4      5       6       1\n",
       "..    ...      ...  ...     ...    ...     ...     ...\n",
       "114    34        0   37      15      6       2       0\n",
       "115    41       14   34      12      8       0       0\n",
       "116    72       33   55      20      1       4       1\n",
       "117    74       84   40      20      2       7       1\n",
       "118    86       97   28      20      2       8       1\n",
       "\n",
       "[119 rows x 7 columns]"
      ]
     },
     "execution_count": 3,
     "metadata": {},
     "output_type": "execute_result"
    }
   ],
   "source": [
    "from sklearn.preprocessing import LabelEncoder\n",
    "LabelEncoder=LabelEncoder()\n",
    "lungs['Name']=LabelEncoder.fit_transform(lungs['Name'])\n",
    "lungs['Surname']=LabelEncoder.fit_transform(lungs['Surname'])\n",
    "lungs"
   ]
  },
  {
   "cell_type": "code",
   "execution_count": 19,
   "id": "7a562156",
   "metadata": {},
   "outputs": [
    {
     "data": {
      "text/plain": [
       "array([[49, 94, 35,  3,  5,  4],\n",
       "       [49, 15, 27, 20,  2,  5],\n",
       "       [12,  2, 30,  0,  5,  2],\n",
       "       [ 1, 91, 28,  0,  8,  1],\n",
       "       [19, 60, 68,  4,  5,  6],\n",
       "       [17, 80, 34,  0, 10,  0],\n",
       "       [65, 90, 58, 15, 10,  0],\n",
       "       [52,  6, 22, 12,  5,  2],\n",
       "       [68, 54, 45,  2,  6,  0],\n",
       "       [75, 66, 52, 18,  4,  5],\n",
       "       [30, 61, 33,  4,  8,  0],\n",
       "       [96, 10, 18, 10,  6,  3],\n",
       "       [48, 16, 25,  2,  5,  1],\n",
       "       [45, 95, 28, 20,  2,  8],\n",
       "       [ 3, 59, 34, 25,  4,  8],\n",
       "       [51, 40, 39, 18,  8,  1],\n",
       "       [51, 40, 42, 22,  3,  5],\n",
       "       [ 4, 89, 19, 12,  8,  0],\n",
       "       [58, 86, 62,  5,  4,  3],\n",
       "       [32, 44, 73, 10,  7,  6],\n",
       "       [46, 29, 55, 15,  1,  3],\n",
       "       [64, 82, 33,  8,  8,  1],\n",
       "       [33, 72, 22, 20,  6,  2],\n",
       "       [84, 74, 44,  5,  8,  1],\n",
       "       [76, 38, 77,  3,  2,  6],\n",
       "       [56, 63, 21, 20,  5,  3],\n",
       "       [71, 83, 37, 15,  6,  2],\n",
       "       [79, 88, 34, 12,  8,  0],\n",
       "       [50, 93, 55, 20,  1,  4],\n",
       "       [31, 36, 40, 20,  2,  7],\n",
       "       [62,  9, 36, 13,  5,  2],\n",
       "       [43, 57, 56, 20,  3,  3],\n",
       "       [43, 67, 47, 15,  1,  8],\n",
       "       [73, 28, 62, 25,  3,  4],\n",
       "       [77, 20, 26, 10,  7,  2],\n",
       "       [22, 42, 25, 20,  8,  2],\n",
       "       [39, 39, 59, 20,  3,  4],\n",
       "       [78, 23, 62, 15,  5,  5],\n",
       "       [24, 11, 33, 25,  8,  2],\n",
       "       [26, 21, 37, 10,  5,  3],\n",
       "       [18, 53, 50, 20,  2,  4],\n",
       "       [46, 29, 47, 12,  8,  0],\n",
       "       [81, 27, 69, 20,  5,  4],\n",
       "       [85, 87, 63, 20,  4,  5],\n",
       "       [47, 55, 39, 15,  7,  2],\n",
       "       [35, 70, 21, 20,  8,  3],\n",
       "       [37,  7, 31, 20,  9,  4],\n",
       "       [69, 54, 28, 10,  4,  1],\n",
       "       [13, 92, 53, 20,  6,  3],\n",
       "       [51, 40, 62, 20,  5,  6],\n",
       "       [51, 40, 42, 12,  6,  2],\n",
       "       [ 5, 89, 44, 30,  1,  6],\n",
       "       [58, 86, 26, 34,  1,  8],\n",
       "       [32, 44, 35, 20,  5,  1],\n",
       "       [25,  8, 26, 13,  6,  1],\n",
       "       [ 0, 34, 77, 20,  5,  4],\n",
       "       [14, 41, 75, 15,  3,  5],\n",
       "       [33, 72, 43, 30,  3,  8],\n",
       "       [84, 74, 51, 25,  9,  0],\n",
       "       [94, 49, 36, 13,  5,  2],\n",
       "       [15, 49, 56, 20,  3,  3],\n",
       "       [ 2, 12, 47, 15,  1,  8],\n",
       "       [91,  1, 62, 25,  3,  4],\n",
       "       [60, 19, 26, 10,  7,  2],\n",
       "       [80, 17, 25, 20,  8,  2],\n",
       "       [90, 65, 59, 20,  3,  4],\n",
       "       [ 6, 52, 62, 15,  5,  5],\n",
       "       [54, 68, 33, 25,  8,  2],\n",
       "       [66, 75, 37, 10,  5,  3],\n",
       "       [61, 30, 50, 20,  2,  4],\n",
       "       [10, 96, 47, 12,  8,  0],\n",
       "       [16, 48, 69, 20,  5,  4],\n",
       "       [95, 45, 63, 20,  4,  5],\n",
       "       [59,  3, 39, 15,  7,  2],\n",
       "       [40, 51, 21, 20,  8,  3],\n",
       "       [40, 51, 31, 20,  9,  4],\n",
       "       [89,  4, 28, 10,  4,  1],\n",
       "       [86, 58, 53, 20,  6,  3],\n",
       "       [44, 32, 62, 20,  5,  6],\n",
       "       [29, 46, 42, 12,  6,  2],\n",
       "       [82, 64, 44, 30,  1,  6],\n",
       "       [72, 33, 26, 34,  1,  8],\n",
       "       [74, 84, 35, 20,  5,  1],\n",
       "       [38, 76, 26, 13,  6,  1],\n",
       "       [63, 56, 77, 20,  5,  4],\n",
       "       [83, 71, 75, 15,  3,  5],\n",
       "       [88, 79, 43, 30,  3,  8],\n",
       "       [93, 50, 51, 25,  9,  0],\n",
       "       [36, 31, 35,  3,  5,  4],\n",
       "       [ 9, 62, 27, 20,  2,  5],\n",
       "       [57, 43, 30,  0,  5,  2],\n",
       "       [67, 43, 28,  0,  8,  1],\n",
       "       [28, 73, 68,  4,  5,  6],\n",
       "       [20, 77, 34,  0, 10,  0],\n",
       "       [42, 22, 58, 15, 10,  0],\n",
       "       [39, 39, 22, 12,  5,  2],\n",
       "       [23, 78, 45,  2,  6,  0],\n",
       "       [11, 24, 52, 18,  4,  5],\n",
       "       [21, 26, 33,  4,  8,  0],\n",
       "       [53, 18, 18, 10,  6,  3],\n",
       "       [29, 46, 25,  2,  5,  1],\n",
       "       [27, 81, 28, 20,  2,  8],\n",
       "       [87, 85, 34, 25,  4,  8],\n",
       "       [55, 47, 39, 18,  8,  1],\n",
       "       [70, 35, 42, 22,  3,  5],\n",
       "       [ 7, 37, 19, 12,  8,  0],\n",
       "       [54, 69, 62,  5,  4,  3],\n",
       "       [92, 13, 73, 10,  7,  6],\n",
       "       [40, 51, 55, 15,  1,  3],\n",
       "       [40, 51, 33,  8,  8,  1],\n",
       "       [89,  5, 22, 20,  6,  2],\n",
       "       [86, 58, 44,  5,  8,  1],\n",
       "       [44, 32, 77,  3,  2,  6],\n",
       "       [ 8, 25, 21, 20,  5,  3],\n",
       "       [34,  0, 37, 15,  6,  2],\n",
       "       [41, 14, 34, 12,  8,  0],\n",
       "       [72, 33, 55, 20,  1,  4],\n",
       "       [74, 84, 40, 20,  2,  7],\n",
       "       [86, 97, 28, 20,  2,  8]], dtype=int64)"
      ]
     },
     "execution_count": 19,
     "metadata": {},
     "output_type": "execute_result"
    }
   ],
   "source": [
    "x=lungs.iloc[:,0:-1].values\n",
    "x"
   ]
  },
  {
   "cell_type": "code",
   "execution_count": 20,
   "id": "81b6f47e",
   "metadata": {},
   "outputs": [
    {
     "data": {
      "text/plain": [
       "array([1, 1, 0, 0, 1, 0, 0, 0, 0, 1, 0, 0, 0, 1, 1, 0, 1, 0, 1, 1, 1, 0,\n",
       "       0, 0, 1, 0, 0, 0, 1, 1, 0, 1, 1, 1, 0, 0, 1, 1, 0, 0, 1, 0, 1, 1,\n",
       "       0, 0, 0, 0, 1, 1, 0, 1, 1, 0, 0, 1, 1, 1, 0, 0, 1, 1, 1, 0, 0, 1,\n",
       "       1, 0, 0, 1, 0, 1, 1, 0, 0, 0, 0, 1, 1, 0, 1, 1, 0, 0, 1, 1, 1, 0,\n",
       "       1, 1, 0, 0, 1, 0, 0, 0, 0, 1, 0, 0, 0, 1, 1, 0, 1, 0, 1, 1, 1, 0,\n",
       "       0, 0, 1, 0, 0, 0, 1, 1, 1], dtype=int64)"
      ]
     },
     "execution_count": 20,
     "metadata": {},
     "output_type": "execute_result"
    }
   ],
   "source": [
    "y=lungs.iloc[:,-1].values\n",
    "y"
   ]
  },
  {
   "cell_type": "code",
   "execution_count": 21,
   "id": "575385f8",
   "metadata": {},
   "outputs": [
    {
     "data": {
      "text/plain": [
       "(119, 6)"
      ]
     },
     "execution_count": 21,
     "metadata": {},
     "output_type": "execute_result"
    }
   ],
   "source": [
    "x.shape"
   ]
  },
  {
   "cell_type": "code",
   "execution_count": 22,
   "id": "399a1753",
   "metadata": {},
   "outputs": [
    {
     "data": {
      "text/plain": [
       "(119,)"
      ]
     },
     "execution_count": 22,
     "metadata": {},
     "output_type": "execute_result"
    }
   ],
   "source": [
    "y.shape"
   ]
  },
  {
   "cell_type": "code",
   "execution_count": 23,
   "id": "5dbbbfa6",
   "metadata": {},
   "outputs": [],
   "source": [
    "from sklearn.model_selection import train_test_split\n",
    "x_train,x_test,y_train,y_test=train_test_split (x,y,test_size=0.25,random_state=0)"
   ]
  },
  {
   "cell_type": "code",
   "execution_count": 24,
   "id": "a9c475b3",
   "metadata": {},
   "outputs": [],
   "source": [
    "from sklearn.svm import SVC"
   ]
  },
  {
   "cell_type": "code",
   "execution_count": 25,
   "id": "34b15e5c",
   "metadata": {},
   "outputs": [
    {
     "data": {
      "text/plain": [
       "SVC(gamma=10, kernel='linear')"
      ]
     },
     "execution_count": 25,
     "metadata": {},
     "output_type": "execute_result"
    }
   ],
   "source": [
    "svc1 = SVC(kernel=\"linear\",gamma=10,C=1.0)\n",
    "svc1.fit(x_train,y_train)"
   ]
  },
  {
   "cell_type": "code",
   "execution_count": 26,
   "id": "759016dc",
   "metadata": {},
   "outputs": [
    {
     "data": {
      "text/plain": [
       "array([0, 0, 0, 0, 1, 0, 0, 0, 0, 0], dtype=int64)"
      ]
     },
     "execution_count": 26,
     "metadata": {},
     "output_type": "execute_result"
    }
   ],
   "source": [
    "y_predict = svc1.predict(x_test)\n",
    "y_predict [:10]"
   ]
  },
  {
   "cell_type": "code",
   "execution_count": 27,
   "id": "80e7a5a0",
   "metadata": {},
   "outputs": [],
   "source": [
    "from sklearn.metrics import confusion_matrix\n",
    "cm = confusion_matrix(y_predict,y_test)"
   ]
  },
  {
   "cell_type": "code",
   "execution_count": 28,
   "id": "33c49dfe",
   "metadata": {},
   "outputs": [
    {
     "name": "stdout",
     "output_type": "stream",
     "text": [
      "[[20  2]\n",
      " [ 0  8]]\n"
     ]
    }
   ],
   "source": [
    "print(cm)"
   ]
  },
  {
   "cell_type": "code",
   "execution_count": 29,
   "id": "6ed8c0b3",
   "metadata": {},
   "outputs": [
    {
     "name": "stdout",
     "output_type": "stream",
     "text": [
      "              precision    recall  f1-score   support\n",
      "\n",
      "           0       1.00      0.91      0.95        22\n",
      "           1       0.80      1.00      0.89         8\n",
      "\n",
      "    accuracy                           0.93        30\n",
      "   macro avg       0.90      0.95      0.92        30\n",
      "weighted avg       0.95      0.93      0.94        30\n",
      "\n"
     ]
    }
   ],
   "source": [
    "from sklearn.metrics import classification_report\n",
    "clf_report=classification_report(y_predict,y_test)\n",
    "print(clf_report)"
   ]
  },
  {
   "cell_type": "code",
   "execution_count": 30,
   "id": "f20007b0",
   "metadata": {},
   "outputs": [
    {
     "data": {
      "text/plain": [
       "0.9333333333333333"
      ]
     },
     "execution_count": 30,
     "metadata": {},
     "output_type": "execute_result"
    }
   ],
   "source": [
    "from sklearn.metrics import accuracy_score\n",
    "acc_score=accuracy_score(y_predict,y_test)"
   ]
  },
  {
   "cell_type": "code",
   "execution_count": 31,
   "id": "af712d02",
   "metadata": {},
   "outputs": [
    {
     "data": {
      "text/plain": [
       "93.33"
      ]
     },
     "execution_count": 31,
     "metadata": {},
     "output_type": "execute_result"
    }
   ],
   "source": [
    "np.round(acc_score*100,2)"
   ]
  },
  {
   "cell_type": "code",
   "execution_count": 32,
   "id": "0cd4398f",
   "metadata": {},
   "outputs": [],
   "source": [
    "new_x = [49,94,35,3,5,4]\n"
   ]
  },
  {
   "cell_type": "code",
   "execution_count": 33,
   "id": "4e39a3fa",
   "metadata": {},
   "outputs": [
    {
     "data": {
      "text/plain": [
       "array([1], dtype=int64)"
      ]
     },
     "execution_count": 33,
     "metadata": {},
     "output_type": "execute_result"
    }
   ],
   "source": [
    "y_predict=svc1.predict([new_x])\n",
    "y_predict"
   ]
  },
  {
   "cell_type": "code",
   "execution_count": 34,
   "id": "db1ddb8d",
   "metadata": {},
   "outputs": [],
   "source": [
    "from sklearn.preprocessing import StandardScaler\n",
    "sd = StandardScaler()"
   ]
  },
  {
   "cell_type": "code",
   "execution_count": 36,
   "id": "e14535b8",
   "metadata": {},
   "outputs": [
    {
     "data": {
      "text/plain": [
       "array([[-0.00505057,  1.67263263, -0.46654014, -1.53356025, -0.07207945,\n",
       "         0.30235616],\n",
       "       [-0.00505057, -1.27864728, -0.96390432,  0.61938381, -1.29743019,\n",
       "         0.72073271],\n",
       "       [-1.39490429, -1.76430093, -0.77739276, -1.91349156, -0.07207945,\n",
       "        -0.53439694],\n",
       "       [-1.80810405,  1.56055871, -0.9017338 , -1.91349156,  1.15327128,\n",
       "        -0.95277348],\n",
       "       [-1.13195899,  0.40246153,  1.58508711, -1.40691649, -0.07207945,\n",
       "         1.13910926]])"
      ]
     },
     "execution_count": 36,
     "metadata": {},
     "output_type": "execute_result"
    }
   ],
   "source": [
    "X = sd.fit_transform(x)\n",
    "X[:5]"
   ]
  },
  {
   "cell_type": "code",
   "execution_count": null,
   "id": "0f2e8ec5",
   "metadata": {},
   "outputs": [],
   "source": []
  }
 ],
 "metadata": {
  "kernelspec": {
   "display_name": "Python 3",
   "language": "python",
   "name": "python3"
  },
  "language_info": {
   "codemirror_mode": {
    "name": "ipython",
    "version": 3
   },
   "file_extension": ".py",
   "mimetype": "text/x-python",
   "name": "python",
   "nbconvert_exporter": "python",
   "pygments_lexer": "ipython3",
   "version": "3.8.8"
  }
 },
 "nbformat": 4,
 "nbformat_minor": 5
}
