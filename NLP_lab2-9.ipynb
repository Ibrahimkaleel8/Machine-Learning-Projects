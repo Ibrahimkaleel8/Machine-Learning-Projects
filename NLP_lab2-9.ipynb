{
 "cells": [
  {
   "cell_type": "code",
   "execution_count": 1,
   "id": "52e3abee",
   "metadata": {},
   "outputs": [
    {
     "name": "stdout",
     "output_type": "stream",
     "text": [
      "hello how are you doing\n"
     ]
    }
   ],
   "source": [
    "import nltk\n",
    "import string\n",
    "text=\"hello, !how are you doing/.\"\n",
    "word=\"\". join([i for i in text if i not in string. punctuation])\n",
    "print (word)"
   ]
  },
  {
   "cell_type": "code",
   "execution_count": 2,
   "id": "0a7f9dc1",
   "metadata": {},
   "outputs": [
    {
     "name": "stdout",
     "output_type": "stream",
     "text": [
      "hii,  bro how are you \n"
     ]
    }
   ],
   "source": [
    "text=\"hii, !bro how are you?\"\n",
    "pun=\"?!.\"\n",
    "for i in pun:\n",
    "    if i in text:\n",
    "        text=text.replace(i,\" \")\n",
    "print(text)"
   ]
  },
  {
   "cell_type": "code",
   "execution_count": null,
   "id": "c2f8eb10",
   "metadata": {},
   "outputs": [],
   "source": []
  },
  {
   "cell_type": "code",
   "execution_count": 3,
   "id": "8bb504c4",
   "metadata": {},
   "outputs": [
    {
     "name": "stdout",
     "output_type": "stream",
     "text": [
      "hii, mr.rajesh how are you.\n",
      "HII, MR.RAJESH HOW ARE YOU.\n"
     ]
    }
   ],
   "source": [
    "#converting into Lower case\n",
    "data=\"Hii, Mr.rajesh How are you.\"\n",
    "print (data.lower())\n",
    "#converting into upper case\n",
    "print (data.upper())"
   ]
  },
  {
   "cell_type": "code",
   "execution_count": null,
   "id": "d5854c74",
   "metadata": {},
   "outputs": [],
   "source": []
  },
  {
   "cell_type": "code",
   "execution_count": 4,
   "id": "856c98ee",
   "metadata": {},
   "outputs": [
    {
     "name": "stdout",
     "output_type": "stream",
     "text": [
      "united states of america is an great country\n"
     ]
    }
   ],
   "source": [
    "#for abbrivation\n",
    "text= \"usa is an gc\"\n",
    "abb={\"usa\": \"united states of america\",\"gc\": \"great country\"}\n",
    "for e in abb:\n",
    "    if e in text:\n",
    "        text=text.replace(e,abb[e])\n",
    "print(text)"
   ]
  },
  {
   "cell_type": "code",
   "execution_count": null,
   "id": "8b633e6c",
   "metadata": {},
   "outputs": [],
   "source": []
  },
  {
   "cell_type": "code",
   "execution_count": 5,
   "id": "f1a8894a",
   "metadata": {},
   "outputs": [
    {
     "name": "stdout",
     "output_type": "stream",
     "text": [
      "Requirement already satisfied: num2words in c:\\users\\user\\anaconda3\\lib\\site-packages (0.5.10)\n",
      "Requirement already satisfied: docopt>=0.6.2 in c:\\users\\user\\anaconda3\\lib\\site-packages (from num2words) (0.6.2)\n",
      "Note: you may need to restart the kernel to use updated packages.\n"
     ]
    }
   ],
   "source": [
    "pip install num2words"
   ]
  },
  {
   "cell_type": "code",
   "execution_count": 6,
   "id": "f64d8dc8",
   "metadata": {},
   "outputs": [
    {
     "name": "stdout",
     "output_type": "stream",
     "text": [
      "twenty-five\n",
      "twenty-fifth\n",
      "25th\n",
      "twenty-five\n"
     ]
    }
   ],
   "source": [
    "from num2words import num2words\n",
    "print(num2words(25))\n",
    "print(num2words(25, to = \"ordinal\"))\n",
    "print(num2words(25, to = \"ordinal_num\"))\n",
    "print(num2words(25, to = \"year\"))"
   ]
  },
  {
   "cell_type": "code",
   "execution_count": null,
   "id": "22aa5009",
   "metadata": {},
   "outputs": [],
   "source": []
  },
  {
   "cell_type": "code",
   "execution_count": 7,
   "id": "56d8f955",
   "metadata": {},
   "outputs": [
    {
     "name": "stdout",
     "output_type": "stream",
     "text": [
      "['NLTK', 'leading', 'platform', 'building', 'python', 'programs', 'human', 'language', 'input']\n"
     ]
    },
    {
     "name": "stderr",
     "output_type": "stream",
     "text": [
      "[nltk_data] Downloading package stopwords to\n",
      "[nltk_data]     C:\\Users\\user\\AppData\\Roaming\\nltk_data...\n",
      "[nltk_data]   Package stopwords is already up-to-date!\n"
     ]
    }
   ],
   "source": [
    "#experiment 6\n",
    "import nltk\n",
    "nltk.download('stopwords')\n",
    "from nltk.corpus import stopwords\n",
    "input_str = \"NLTK is a leading platform for building python programs for human language input\"\n",
    "stop_words = set(stopwords.words(\"english\"))\n",
    "from nltk.tokenize import word_tokenize\n",
    "tokens=word_tokenize(input_str)\n",
    "res=[i for i in tokens if i not in stop_words]\n",
    "print(res)"
   ]
  },
  {
   "cell_type": "code",
   "execution_count": null,
   "id": "2921c4e8",
   "metadata": {},
   "outputs": [],
   "source": []
  },
  {
   "cell_type": "code",
   "execution_count": 8,
   "id": "883e90cc",
   "metadata": {},
   "outputs": [],
   "source": [
    "#experiment7\n",
    " #similarity measuring using jaccard distance\n",
    "import nltk\n",
    "from nltk.metrics import jaccard_distance\n",
    "def jaccard_similarity(a,b):\n",
    "    molecular = set(a).intersection(set(b))\n",
    "    denominator = set(a).union(set(b))\n",
    "    return len(molecular)/len(denominator)\n",
    "def nltk_jaccards(x,y):\n",
    "    return jaccard_distance(x,y)\n"
   ]
  },
  {
   "cell_type": "code",
   "execution_count": 9,
   "id": "20ee09d6",
   "metadata": {},
   "outputs": [
    {
     "name": "stdout",
     "output_type": "stream",
     "text": [
      "d1 = 0.5\n",
      "d2 = 0.5\n"
     ]
    }
   ],
   "source": [
    "if __name__==\"__main__\":\n",
    "    x=set([10,20,30])\n",
    "    y=set([20,30,40])\n",
    "    d1=jaccard_similarity(x,y)\n",
    "    d2=nltk_jaccards(x,y)\n",
    "    print(\"d1 = \"+str(d1))\n",
    "    print(\"d2 = \"+str(d2))"
   ]
  },
  {
   "cell_type": "code",
   "execution_count": 10,
   "id": "5ae4f709",
   "metadata": {},
   "outputs": [
    {
     "name": "stdout",
     "output_type": "stream",
     "text": [
      "[('to', 2), ('welcome', 1)]\n"
     ]
    }
   ],
   "source": [
    "#experiment8\n",
    "from collections import Counter\n",
    "data=\"welcome to world of geeks. this portal has been created to provide well solutions for more frequently asked questions\"\n",
    "split_it=data.split()\n",
    "Counter = Counter(split_it)\n",
    "most_occur=Counter.most_common(2)\n",
    "print(most_occur)"
   ]
  },
  {
   "cell_type": "code",
   "execution_count": null,
   "id": "b9b96fa6",
   "metadata": {},
   "outputs": [],
   "source": []
  },
  {
   "cell_type": "code",
   "execution_count": 20,
   "id": "7a07eb13",
   "metadata": {},
   "outputs": [
    {
     "data": {
      "image/png": "[encoded data removed]",
      "text/plain": [
       "<Figure size 720x720 with 1 Axes>"
      ]
     },
     "metadata": {
      "needs_background": "light"
     },
     "output_type": "display_data"
    }
   ],
   "source": [
    "#experiment9\n",
    "import matplotlib.pyplot as plt\n",
    "from wordcloud import WordCloud, STOPWORDS\n",
    "text=\"A car or automobile is a motor vehicle with wheels\"\n",
    "\"Most definitions of cars say that they run primarily on roads, seat one to eight people, have four wheels, and mainly transport people\"\n",
    "wordcloud = WordCloud(background_color = 'green').generate(text)\n",
    "plt.figure(figsize=(10,10))\n",
    "plt.imshow(wordcloud)\n",
    "plt.axis(\"off\")\n",
    "plt.show()\n"
   ]
  },
  {
   "cell_type": "code",
   "execution_count": null,
   "id": "d241b53d",
   "metadata": {},
   "outputs": [],
   "source": []
  },
  {
   "cell_type": "code",
   "execution_count": null,
   "id": "957689e7",
   "metadata": {},
   "outputs": [],
   "source": [
    "\n"
   ]
  }
 ],
 "metadata": {
  "kernelspec": {
   "display_name": "Python 3",
   "language": "python",
   "name": "python3"
  },
  "language_info": {
   "codemirror_mode": {
    "name": "ipython",
    "version": 3
   },
   "file_extension": ".py",
   "mimetype": "text/x-python",
   "name": "python",
   "nbconvert_exporter": "python",
   "pygments_lexer": "ipython3",
   "version": "3.8.8"
  }
 },
 "nbformat": 4,
 "nbformat_minor": 5
}
