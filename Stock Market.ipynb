{
 "cells": [
  {
   "cell_type": "code",
   "execution_count": 1,
   "id": "c19000c9",
   "metadata": {},
   "outputs": [],
   "source": [
    "import numpy as np\n",
    "import pandas as pd\n",
    "import matplotlib.pyplot as plt"
   ]
  },
  {
   "cell_type": "code",
   "execution_count": 2,
   "id": "f1a9667a",
   "metadata": {},
   "outputs": [],
   "source": [
    "stocks=pd.read_csv(\"D:\\\\lab\\\\ML\\\\Stocks.csv\")"
   ]
  },
  {
   "cell_type": "code",
   "execution_count": 3,
   "id": "8914b3c9",
   "metadata": {},
   "outputs": [
    {
     "data": {
      "text/html": [
       "<div>\n",
       "<style scoped>\n",
       "    .dataframe tbody tr th:only-of-type {\n",
       "        vertical-align: middle;\n",
       "    }\n",
       "\n",
       "    .dataframe tbody tr th {\n",
       "        vertical-align: top;\n",
       "    }\n",
       "\n",
       "    .dataframe thead th {\n",
       "        text-align: right;\n",
       "    }\n",
       "</style>\n",
       "<table border=\"1\" class=\"dataframe\">\n",
       "  <thead>\n",
       "    <tr style=\"text-align: right;\">\n",
       "      <th></th>\n",
       "      <th>Open</th>\n",
       "      <th>High</th>\n",
       "      <th>Low</th>\n",
       "      <th>Close</th>\n",
       "      <th>Volume</th>\n",
       "      <th>Stock Trading</th>\n",
       "    </tr>\n",
       "  </thead>\n",
       "  <tbody>\n",
       "    <tr>\n",
       "      <th>0</th>\n",
       "      <td>42120</td>\n",
       "      <td>42330</td>\n",
       "      <td>41700</td>\n",
       "      <td>41830</td>\n",
       "      <td>610000</td>\n",
       "      <td>2.562803e+10</td>\n",
       "    </tr>\n",
       "    <tr>\n",
       "      <th>1</th>\n",
       "      <td>43000</td>\n",
       "      <td>43220</td>\n",
       "      <td>42540</td>\n",
       "      <td>42660</td>\n",
       "      <td>448400</td>\n",
       "      <td>1.918823e+10</td>\n",
       "    </tr>\n",
       "    <tr>\n",
       "      <th>2</th>\n",
       "      <td>43940</td>\n",
       "      <td>43970</td>\n",
       "      <td>43270</td>\n",
       "      <td>43270</td>\n",
       "      <td>339900</td>\n",
       "      <td>1.478067e+10</td>\n",
       "    </tr>\n",
       "    <tr>\n",
       "      <th>3</th>\n",
       "      <td>43140</td>\n",
       "      <td>43700</td>\n",
       "      <td>43140</td>\n",
       "      <td>43620</td>\n",
       "      <td>400100</td>\n",
       "      <td>1.742799e+10</td>\n",
       "    </tr>\n",
       "    <tr>\n",
       "      <th>4</th>\n",
       "      <td>43310</td>\n",
       "      <td>43660</td>\n",
       "      <td>43090</td>\n",
       "      <td>43340</td>\n",
       "      <td>358200</td>\n",
       "      <td>1.554780e+10</td>\n",
       "    </tr>\n",
       "    <tr>\n",
       "      <th>...</th>\n",
       "      <td>...</td>\n",
       "      <td>...</td>\n",
       "      <td>...</td>\n",
       "      <td>...</td>\n",
       "      <td>...</td>\n",
       "      <td>...</td>\n",
       "    </tr>\n",
       "    <tr>\n",
       "      <th>1221</th>\n",
       "      <td>14360</td>\n",
       "      <td>14750</td>\n",
       "      <td>14280</td>\n",
       "      <td>14590</td>\n",
       "      <td>1043400</td>\n",
       "      <td>1.519199e+10</td>\n",
       "    </tr>\n",
       "    <tr>\n",
       "      <th>1222</th>\n",
       "      <td>13890</td>\n",
       "      <td>14390</td>\n",
       "      <td>13860</td>\n",
       "      <td>14390</td>\n",
       "      <td>952300</td>\n",
       "      <td>1.353341e+10</td>\n",
       "    </tr>\n",
       "    <tr>\n",
       "      <th>1223</th>\n",
       "      <td>13990</td>\n",
       "      <td>14030</td>\n",
       "      <td>13790</td>\n",
       "      <td>13850</td>\n",
       "      <td>765500</td>\n",
       "      <td>1.063561e+10</td>\n",
       "    </tr>\n",
       "    <tr>\n",
       "      <th>1224</th>\n",
       "      <td>13720</td>\n",
       "      <td>13840</td>\n",
       "      <td>13600</td>\n",
       "      <td>13800</td>\n",
       "      <td>511500</td>\n",
       "      <td>7.030811e+09</td>\n",
       "    </tr>\n",
       "    <tr>\n",
       "      <th>1225</th>\n",
       "      <td>14050</td>\n",
       "      <td>14050</td>\n",
       "      <td>13700</td>\n",
       "      <td>13720</td>\n",
       "      <td>559100</td>\n",
       "      <td>7.719804e+09</td>\n",
       "    </tr>\n",
       "  </tbody>\n",
       "</table>\n",
       "<p>1226 rows × 6 columns</p>\n",
       "</div>"
      ],
      "text/plain": [
       "       Open   High    Low  Close   Volume  Stock Trading\n",
       "0     42120  42330  41700  41830   610000   2.562803e+10\n",
       "1     43000  43220  42540  42660   448400   1.918823e+10\n",
       "2     43940  43970  43270  43270   339900   1.478067e+10\n",
       "3     43140  43700  43140  43620   400100   1.742799e+10\n",
       "4     43310  43660  43090  43340   358200   1.554780e+10\n",
       "...     ...    ...    ...    ...      ...            ...\n",
       "1221  14360  14750  14280  14590  1043400   1.519199e+10\n",
       "1222  13890  14390  13860  14390   952300   1.353341e+10\n",
       "1223  13990  14030  13790  13850   765500   1.063561e+10\n",
       "1224  13720  13840  13600  13800   511500   7.030811e+09\n",
       "1225  14050  14050  13700  13720   559100   7.719804e+09\n",
       "\n",
       "[1226 rows x 6 columns]"
      ]
     },
     "execution_count": 3,
     "metadata": {},
     "output_type": "execute_result"
    }
   ],
   "source": [
    "stocks"
   ]
  },
  {
   "cell_type": "code",
   "execution_count": 4,
   "id": "354a360a",
   "metadata": {},
   "outputs": [
    {
     "data": {
      "text/plain": [
       "(1226, 6)"
      ]
     },
     "execution_count": 4,
     "metadata": {},
     "output_type": "execute_result"
    }
   ],
   "source": [
    "stocks.shape"
   ]
  },
  {
   "cell_type": "code",
   "execution_count": 5,
   "id": "5b0e9f36",
   "metadata": {},
   "outputs": [
    {
     "data": {
      "text/html": [
       "<div>\n",
       "<style scoped>\n",
       "    .dataframe tbody tr th:only-of-type {\n",
       "        vertical-align: middle;\n",
       "    }\n",
       "\n",
       "    .dataframe tbody tr th {\n",
       "        vertical-align: top;\n",
       "    }\n",
       "\n",
       "    .dataframe thead th {\n",
       "        text-align: right;\n",
       "    }\n",
       "</style>\n",
       "<table border=\"1\" class=\"dataframe\">\n",
       "  <thead>\n",
       "    <tr style=\"text-align: right;\">\n",
       "      <th></th>\n",
       "      <th>Open</th>\n",
       "      <th>High</th>\n",
       "      <th>Low</th>\n",
       "      <th>Close</th>\n",
       "      <th>Volume</th>\n",
       "      <th>Stock Trading</th>\n",
       "    </tr>\n",
       "  </thead>\n",
       "  <tbody>\n",
       "    <tr>\n",
       "      <th>0</th>\n",
       "      <td>42120</td>\n",
       "      <td>42330</td>\n",
       "      <td>41700</td>\n",
       "      <td>41830</td>\n",
       "      <td>610000</td>\n",
       "      <td>2.562803e+10</td>\n",
       "    </tr>\n",
       "    <tr>\n",
       "      <th>1</th>\n",
       "      <td>43000</td>\n",
       "      <td>43220</td>\n",
       "      <td>42540</td>\n",
       "      <td>42660</td>\n",
       "      <td>448400</td>\n",
       "      <td>1.918823e+10</td>\n",
       "    </tr>\n",
       "    <tr>\n",
       "      <th>2</th>\n",
       "      <td>43940</td>\n",
       "      <td>43970</td>\n",
       "      <td>43270</td>\n",
       "      <td>43270</td>\n",
       "      <td>339900</td>\n",
       "      <td>1.478067e+10</td>\n",
       "    </tr>\n",
       "    <tr>\n",
       "      <th>3</th>\n",
       "      <td>43140</td>\n",
       "      <td>43700</td>\n",
       "      <td>43140</td>\n",
       "      <td>43620</td>\n",
       "      <td>400100</td>\n",
       "      <td>1.742799e+10</td>\n",
       "    </tr>\n",
       "    <tr>\n",
       "      <th>4</th>\n",
       "      <td>43310</td>\n",
       "      <td>43660</td>\n",
       "      <td>43090</td>\n",
       "      <td>43340</td>\n",
       "      <td>358200</td>\n",
       "      <td>1.554780e+10</td>\n",
       "    </tr>\n",
       "  </tbody>\n",
       "</table>\n",
       "</div>"
      ],
      "text/plain": [
       "    Open   High    Low  Close  Volume  Stock Trading\n",
       "0  42120  42330  41700  41830  610000   2.562803e+10\n",
       "1  43000  43220  42540  42660  448400   1.918823e+10\n",
       "2  43940  43970  43270  43270  339900   1.478067e+10\n",
       "3  43140  43700  43140  43620  400100   1.742799e+10\n",
       "4  43310  43660  43090  43340  358200   1.554780e+10"
      ]
     },
     "execution_count": 5,
     "metadata": {},
     "output_type": "execute_result"
    }
   ],
   "source": [
    "stocks.head()"
   ]
  },
  {
   "cell_type": "code",
   "execution_count": 6,
   "id": "2d1e2cfc",
   "metadata": {},
   "outputs": [
    {
     "data": {
      "text/html": [
       "<div>\n",
       "<style scoped>\n",
       "    .dataframe tbody tr th:only-of-type {\n",
       "        vertical-align: middle;\n",
       "    }\n",
       "\n",
       "    .dataframe tbody tr th {\n",
       "        vertical-align: top;\n",
       "    }\n",
       "\n",
       "    .dataframe thead th {\n",
       "        text-align: right;\n",
       "    }\n",
       "</style>\n",
       "<table border=\"1\" class=\"dataframe\">\n",
       "  <thead>\n",
       "    <tr style=\"text-align: right;\">\n",
       "      <th></th>\n",
       "      <th>Open</th>\n",
       "      <th>High</th>\n",
       "      <th>Low</th>\n",
       "      <th>Close</th>\n",
       "      <th>Volume</th>\n",
       "      <th>Stock Trading</th>\n",
       "    </tr>\n",
       "  </thead>\n",
       "  <tbody>\n",
       "    <tr>\n",
       "      <th>1221</th>\n",
       "      <td>14360</td>\n",
       "      <td>14750</td>\n",
       "      <td>14280</td>\n",
       "      <td>14590</td>\n",
       "      <td>1043400</td>\n",
       "      <td>1.519199e+10</td>\n",
       "    </tr>\n",
       "    <tr>\n",
       "      <th>1222</th>\n",
       "      <td>13890</td>\n",
       "      <td>14390</td>\n",
       "      <td>13860</td>\n",
       "      <td>14390</td>\n",
       "      <td>952300</td>\n",
       "      <td>1.353341e+10</td>\n",
       "    </tr>\n",
       "    <tr>\n",
       "      <th>1223</th>\n",
       "      <td>13990</td>\n",
       "      <td>14030</td>\n",
       "      <td>13790</td>\n",
       "      <td>13850</td>\n",
       "      <td>765500</td>\n",
       "      <td>1.063561e+10</td>\n",
       "    </tr>\n",
       "    <tr>\n",
       "      <th>1224</th>\n",
       "      <td>13720</td>\n",
       "      <td>13840</td>\n",
       "      <td>13600</td>\n",
       "      <td>13800</td>\n",
       "      <td>511500</td>\n",
       "      <td>7.030811e+09</td>\n",
       "    </tr>\n",
       "    <tr>\n",
       "      <th>1225</th>\n",
       "      <td>14050</td>\n",
       "      <td>14050</td>\n",
       "      <td>13700</td>\n",
       "      <td>13720</td>\n",
       "      <td>559100</td>\n",
       "      <td>7.719804e+09</td>\n",
       "    </tr>\n",
       "  </tbody>\n",
       "</table>\n",
       "</div>"
      ],
      "text/plain": [
       "       Open   High    Low  Close   Volume  Stock Trading\n",
       "1221  14360  14750  14280  14590  1043400   1.519199e+10\n",
       "1222  13890  14390  13860  14390   952300   1.353341e+10\n",
       "1223  13990  14030  13790  13850   765500   1.063561e+10\n",
       "1224  13720  13840  13600  13800   511500   7.030811e+09\n",
       "1225  14050  14050  13700  13720   559100   7.719804e+09"
      ]
     },
     "execution_count": 6,
     "metadata": {},
     "output_type": "execute_result"
    }
   ],
   "source": [
    "stocks.tail()"
   ]
  },
  {
   "cell_type": "code",
   "execution_count": 7,
   "id": "0b58f6bc",
   "metadata": {},
   "outputs": [
    {
     "data": {
      "text/plain": [
       "array([[610000],\n",
       "       [448400],\n",
       "       [339900],\n",
       "       ...,\n",
       "       [765500],\n",
       "       [511500],\n",
       "       [559100]], dtype=int64)"
      ]
     },
     "execution_count": 7,
     "metadata": {},
     "output_type": "execute_result"
    }
   ],
   "source": [
    "x=stocks.iloc[:,4:5].values\n",
    "x"
   ]
  },
  {
   "cell_type": "code",
   "execution_count": 8,
   "id": "676c8100",
   "metadata": {},
   "outputs": [
    {
     "data": {
      "text/plain": [
       "array([2.5628028e+10, 1.9188227e+10, 1.4780670e+10, ..., 1.0635609e+10,\n",
       "       7.0308110e+09, 7.7198040e+09])"
      ]
     },
     "execution_count": 8,
     "metadata": {},
     "output_type": "execute_result"
    }
   ],
   "source": [
    "y=stocks.iloc[:,5].values\n",
    "y"
   ]
  },
  {
   "cell_type": "code",
   "execution_count": 9,
   "id": "f8bf770f",
   "metadata": {},
   "outputs": [],
   "source": [
    "from sklearn.model_selection import train_test_split"
   ]
  },
  {
   "cell_type": "code",
   "execution_count": 10,
   "id": "fe2fa215",
   "metadata": {},
   "outputs": [],
   "source": [
    "x_train,x_test,y_train,y_test = train_test_split (x,y,test_size=0.2,random_state=0)"
   ]
  },
  {
   "cell_type": "code",
   "execution_count": 11,
   "id": "4b8f1b4f",
   "metadata": {},
   "outputs": [],
   "source": [
    "from sklearn.linear_model import LinearRegression\n",
    "lg=LinearRegression()"
   ]
  },
  {
   "cell_type": "code",
   "execution_count": 12,
   "id": "28902c6c",
   "metadata": {},
   "outputs": [
    {
     "data": {
      "text/plain": [
       "LinearRegression()"
      ]
     },
     "execution_count": 12,
     "metadata": {},
     "output_type": "execute_result"
    }
   ],
   "source": [
    "lg.fit(x_train,y_train)"
   ]
  },
  {
   "cell_type": "code",
   "execution_count": 13,
   "id": "3441d26b",
   "metadata": {},
   "outputs": [
    {
     "data": {
      "text/plain": [
       "array([1.70505945e+10, 1.38361144e+10, 4.45155817e+10, 2.64564966e+10,\n",
       "       2.57839854e+10, 2.25509958e+10, 2.58487686e+10, 2.44790669e+10,\n",
       "       5.36129924e+10, 2.25294014e+10, 1.85529475e+10, 2.32913751e+10,\n",
       "       2.12059734e+10, 1.83956169e+10, 3.74974029e+10, 1.85961363e+10,\n",
       "       1.45548993e+10, 1.78063984e+10, 2.04285751e+10, 1.81056350e+10,\n",
       "       1.62762812e+10, 2.62498074e+10, 1.34042265e+10, 1.57888648e+10,\n",
       "       2.84740302e+10, 2.04100656e+10, 2.22980328e+10, 3.09851500e+10,\n",
       "       2.51885970e+10, 2.03730466e+10, 1.30772256e+10, 3.07291021e+10,\n",
       "       1.62207527e+10, 1.68562450e+10, 1.87534669e+10, 2.35319983e+10,\n",
       "       2.33129695e+10, 2.26959867e+10, 4.55675373e+10, 1.43019364e+10,\n",
       "       2.53520975e+10, 1.99658380e+10, 1.44284178e+10, 4.70267015e+10,\n",
       "       1.43759743e+10, 1.19111282e+10, 2.01015742e+10, 1.70012359e+10,\n",
       "       1.16550804e+10, 3.42489887e+10, 6.30096397e+10, 1.42278984e+10,\n",
       "       5.44736834e+10, 1.77693794e+10, 1.60665070e+10, 2.25355712e+10,\n",
       "       1.54032506e+10, 3.28607776e+10, 2.98313922e+10, 3.06674039e+10,\n",
       "       1.70968682e+10, 1.72572837e+10, 1.46998902e+10, 4.00301171e+10,\n",
       "       1.80439368e+10, 2.83845677e+10, 1.82352014e+10, 1.65076497e+10,\n",
       "       3.63251357e+10, 2.08265290e+10, 1.93118363e+10, 2.20543246e+10,\n",
       "       1.67297635e+10, 3.83673486e+10, 1.60264032e+10, 2.34579604e+10,\n",
       "       1.00570950e+10, 4.58359248e+10, 1.64953100e+10, 1.23584407e+10,\n",
       "       1.27995834e+10, 1.17013541e+10, 3.58007004e+10, 1.12632963e+10,\n",
       "       2.19155035e+10, 1.81303143e+10, 1.42309833e+10, 1.67174238e+10,\n",
       "       1.63194700e+10, 1.52860239e+10, 2.34487057e+10, 6.11370971e+10,\n",
       "       1.33085941e+10, 5.27368769e+10, 2.53952863e+10, 1.74793975e+10,\n",
       "       4.07581568e+10, 2.86128513e+10, 1.96480919e+10, 1.81148898e+10,\n",
       "       1.32623204e+10, 1.27286303e+10, 1.38083502e+10, 1.31296691e+10,\n",
       "       2.03514523e+10, 2.99270246e+10, 2.16810501e+10, 1.40242941e+10,\n",
       "       1.86424100e+10, 2.91959000e+10, 2.00799798e+10, 2.16378613e+10,\n",
       "       2.46980957e+10, 2.16131820e+10, 2.07710005e+10, 7.98872029e+10,\n",
       "       2.00337061e+10, 1.74084445e+10, 1.72233497e+10, 1.55729208e+10,\n",
       "       1.69395376e+10, 1.64891402e+10, 2.23720708e+10, 1.29939329e+10,\n",
       "       3.90028409e+10, 2.38034708e+10, 2.95290707e+10, 2.75393013e+10,\n",
       "       1.40952471e+10, 2.27823643e+10, 2.23936652e+10, 2.31432992e+10,\n",
       "       2.00275363e+10, 2.77552453e+10, 1.18494299e+10, 1.64151023e+10,\n",
       "       1.13629990e+11, 1.91761001e+10, 2.57901552e+10, 2.47351147e+10,\n",
       "       2.84123319e+10, 3.95396158e+10, 4.20970094e+10, 2.83938224e+10,\n",
       "       2.18075315e+10, 2.55526169e+10, 1.81364842e+10, 2.10918316e+10,\n",
       "       1.80439368e+10, 1.65292441e+10, 4.24733688e+10, 1.42093890e+10,\n",
       "       2.54199656e+10, 1.94383178e+10, 2.16532859e+10, 1.95185255e+10,\n",
       "       1.62731963e+10, 1.86208156e+10, 1.15872123e+10, 2.57716457e+10,\n",
       "       1.60325730e+10, 2.10856617e+10, 1.30618010e+10, 1.67729523e+10,\n",
       "       3.91354921e+10, 2.78169436e+10, 2.44914065e+10, 2.34857246e+10,\n",
       "       2.02218859e+10, 1.70413398e+10, 2.02804992e+10, 2.15237195e+10,\n",
       "       3.16175573e+10, 1.29661687e+10, 2.51207289e+10, 2.47875582e+10,\n",
       "       2.27453453e+10, 1.69364527e+10, 2.17520031e+10, 4.60426141e+10,\n",
       "       1.97097902e+10, 2.08697178e+10, 2.04995281e+10, 2.48214923e+10,\n",
       "       1.36541045e+10, 1.88244199e+10, 3.48752262e+10, 1.64120174e+10,\n",
       "       1.74269540e+10, 3.83580939e+10, 2.00182816e+10, 2.74683483e+10,\n",
       "       2.05766510e+10, 2.08481234e+10, 1.42587476e+10, 2.19340130e+10,\n",
       "       2.25294014e+10, 2.16193518e+10, 1.94198083e+10, 2.14188324e+10,\n",
       "       3.11609901e+10, 2.24923824e+10, 1.77323605e+10, 2.00244514e+10,\n",
       "       2.06044152e+10, 2.10918316e+10, 1.92038643e+10, 2.13787285e+10,\n",
       "       1.75935393e+10, 1.84696549e+10, 1.39163221e+10, 2.06661135e+10,\n",
       "       3.59981348e+10, 1.32376411e+10, 7.92702202e+10, 2.22178251e+10,\n",
       "       1.61528846e+10, 2.86251910e+10, 2.20728341e+10, 1.22813179e+10,\n",
       "       2.98992603e+10, 3.10098293e+10, 1.58968368e+10, 1.61096958e+10,\n",
       "       3.14787362e+10, 3.26139845e+10, 1.88922880e+10, 1.77416152e+10,\n",
       "       2.81346897e+10, 4.76745334e+10, 4.84303373e+10, 2.22363346e+10,\n",
       "       2.09746048e+10, 3.56711340e+10, 2.56790983e+10, 2.90755884e+10,\n",
       "       1.85498626e+10, 1.11614942e+10, 6.14394186e+10, 1.79112855e+10,\n",
       "       5.35574640e+10, 1.76182187e+10, 2.18044466e+10, 4.96858972e+10,\n",
       "       2.08851423e+10, 2.27731096e+10])"
      ]
     },
     "execution_count": 13,
     "metadata": {},
     "output_type": "execute_result"
    }
   ],
   "source": [
    "from sklearn.linear_model import LinearRegression\n",
    "lg=LinearRegression()"
   ]
  },
  {
   "cell_type": "code",
   "execution_count": 14,
   "id": "cd65bbb8",
   "metadata": {},
   "outputs": [
    {
     "data": {
      "text/plain": [
       "(246, 1)"
      ]
     },
     "execution_count": 14,
     "metadata": {},
     "output_type": "execute_result"
    }
   ],
   "source": [
    "x_test.shape"
   ]
  },
  {
   "cell_type": "code",
   "execution_count": 15,
   "id": "25298247",
   "metadata": {},
   "outputs": [
    {
     "data": {
      "text/plain": [
       "array([2.08697178e+10])"
      ]
     },
     "execution_count": 15,
     "metadata": {},
     "output_type": "execute_result"
    }
   ],
   "source": [
    "y_predict=lg.predict([[609600]])\n",
    "y_predict"
   ]
  },
  {
   "cell_type": "code",
   "execution_count": 16,
   "id": "5a0a207b",
   "metadata": {},
   "outputs": [
    {
     "data": {
      "text/plain": [
       "67.08"
      ]
     },
     "execution_count": 16,
     "metadata": {},
     "output_type": "execute_result"
    }
   ],
   "source": [
    "np.round(lg.score(x_test,y_test)*100,2)"
   ]
  },
  {
   "cell_type": "code",
   "execution_count": 17,
   "id": "fbc299d5",
   "metadata": {},
   "outputs": [
    {
     "data": {
      "text/plain": [
       "2064083472.8335495"
      ]
     },
     "execution_count": 17,
     "metadata": {},
     "output_type": "execute_result"
    }
   ],
   "source": [
    "lg.intercept_"
   ]
  },
  {
   "cell_type": "code",
   "execution_count": 18,
   "id": "c5ab1dfd",
   "metadata": {},
   "outputs": [
    {
     "data": {
      "text/plain": [
       "array([30849.13761522])"
      ]
     },
     "execution_count": 18,
     "metadata": {},
     "output_type": "execute_result"
    }
   ],
   "source": [
    "lg.coef_"
   ]
  },
  {
   "cell_type": "code",
   "execution_count": 21,
   "id": "994e6664",
   "metadata": {},
   "outputs": [
    {
     "data": {
      "text/plain": [
       "67.08"
      ]
     },
     "execution_count": 21,
     "metadata": {},
     "output_type": "execute_result"
    }
   ],
   "source": [
    "np.round(lg.score(x_test,y_test)*100,2)"
   ]
  },
  {
   "cell_type": "code",
   "execution_count": 19,
   "id": "ba3c9af4",
   "metadata": {},
   "outputs": [
    {
     "data": {
      "image/png": "[encoded data removed]",
      "text/plain": [
       "<Figure size 432x288 with 1 Axes>"
      ]
     },
     "metadata": {
      "needs_background": "light"
     },
     "output_type": "display_data"
    }
   ],
   "source": [
    "plt.scatter(x_train,y_train,color='green')\n",
    "plt.plot(x_train,lg.predict(x_train))\n",
    "plt.title(\"stock prediction\")\n",
    "plt.xlabel(\"Volume\")\n",
    "plt.xlabel(\"stock trading\")\n",
    "plt.show()\n",
    "\n"
   ]
  },
  {
   "cell_type": "code",
   "execution_count": 20,
   "id": "8437b6e5",
   "metadata": {},
   "outputs": [
    {
     "data": {
      "image/png": "[encoded data removed]",
      "text/plain": [
       "<Figure size 432x288 with 1 Axes>"
      ]
     },
     "metadata": {
      "needs_background": "light"
     },
     "output_type": "display_data"
    }
   ],
   "source": [
    "plt.scatter(x_test,y_test,color='green')\n",
    "plt.plot(x_test,lg.predict(x_test))\n",
    "plt.title(\"stock Prediction\")\n",
    "plt.xlabel(\"Volume\")\n",
    "plt.xlabel(\"Stock trading\")\n",
    "plt.show()"
   ]
  },
  {
   "cell_type": "code",
   "execution_count": null,
   "id": "18341126",
   "metadata": {},
   "outputs": [],
   "source": []
  },
  {
   "cell_type": "code",
   "execution_count": null,
   "id": "d71cc2d5",
   "metadata": {},
   "outputs": [],
   "source": []
  }
 ],
 "metadata": {
  "kernelspec": {
   "display_name": "Python 3",
   "language": "python",
   "name": "python3"
  },
  "language_info": {
   "codemirror_mode": {
    "name": "ipython",
    "version": 3
   },
   "file_extension": ".py",
   "mimetype": "text/x-python",
   "name": "python",
   "nbconvert_exporter": "python",
   "pygments_lexer": "ipython3",
   "version": "3.8.8"
  }
 },
 "nbformat": 4,
 "nbformat_minor": 5
}
